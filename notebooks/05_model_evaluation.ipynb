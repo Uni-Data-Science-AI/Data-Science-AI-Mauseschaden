{
 "cells": [
  {
   "cell_type": "markdown",
   "id": "5b7b628a",
   "metadata": {},
   "source": [
    "Informationen aus https://docs.ultralytics.com/de/usage/python/."
   ]
  },
  {
   "cell_type": "code",
   "execution_count": null,
   "id": "c2ce3d07",
   "metadata": {},
   "outputs": [],
   "source": [
    "import torch\n",
    "x = torch.rand(5,3)\n",
    "print(x)"
   ]
  },
  {
   "cell_type": "markdown",
   "id": "5369d06e",
   "metadata": {},
   "source": [
    "## 1. Create and get your dataset via cvat"
   ]
  },
  {
   "cell_type": "markdown",
   "id": "8f293399",
   "metadata": {},
   "source": [
    "Make sure that the test and train paths of the datasets are correctly set in the data.yaml."
   ]
  },
  {
   "cell_type": "code",
   "execution_count": null,
   "id": "d9cec8a8",
   "metadata": {},
   "outputs": [],
   "source": [
    "model = YOLO(\"yolo11n.pt\")"
   ]
  },
  {
   "cell_type": "code",
   "execution_count": null,
   "id": "ea83874a",
   "metadata": {},
   "outputs": [],
   "source": [
    "model.train(\n",
    "    data=\"path/to/your/dataset.yaml\", \n",
    "    pochs=10)"
   ]
  },
  {
   "cell_type": "code",
   "execution_count": null,
   "id": "0cc63bd4",
   "metadata": {},
   "outputs": [],
   "source": [
    "model.export(format=\"onnx\")"
   ]
  },
  {
   "cell_type": "code",
   "execution_count": null,
   "id": "af93e3bd",
   "metadata": {},
   "outputs": [],
   "source": []
  }
 ],
 "metadata": {
  "kernelspec": {
   "display_name": "ultralytics_env",
   "language": "python",
   "name": "python3"
  },
  "language_info": {
   "codemirror_mode": {
    "name": "ipython",
    "version": 3
   },
   "file_extension": ".py",
   "mimetype": "text/x-python",
   "name": "python",
   "nbconvert_exporter": "python",
   "pygments_lexer": "ipython3",
   "version": "3.13.7"
  }
 },
 "nbformat": 4,
 "nbformat_minor": 5
}
