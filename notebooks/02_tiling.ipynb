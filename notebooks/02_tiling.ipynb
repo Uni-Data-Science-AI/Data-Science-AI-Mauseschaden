{
 "cells": [
  {
   "cell_type": "code",
   "execution_count": 1,
   "id": "633c7bb4",
   "metadata": {},
   "outputs": [],
   "source": [
    "from PIL import Image\n",
    "import os"
   ]
  },
  {
   "cell_type": "markdown",
   "id": "c13c591d",
   "metadata": {},
   "source": [
    "Parameter\n"
   ]
  },
  {
   "cell_type": "code",
   "execution_count": 2,
   "id": "39c0dec3",
   "metadata": {},
   "outputs": [],
   "source": [
    "\n",
    "tile_size = 2048\n",
    "overlap      = 256               # Überlappung in Pixeln\n",
    "pad_edges    = True               # Kanten mit Nullen auffüllen    \n",
    "input_path = \"../data/preprocessed_data/Priesig (250314).tif\"\n",
    "output_dir = \"../data/tiles_2048/Priesig (250314)\"\n",
    "os.makedirs(output_dir, exist_ok=True)"
   ]
  },
  {
   "cell_type": "markdown",
   "id": "4b84e8b3",
   "metadata": {},
   "source": [
    "Bild laden"
   ]
  },
  {
   "cell_type": "code",
   "execution_count": 3,
   "id": "58328da9",
   "metadata": {},
   "outputs": [],
   "source": [
    "Image.MAX_IMAGE_PIXELS = None\n",
    "img = Image.open(input_path)\n",
    "W, H = img.size\n",
    "step = tile_size - overlap\n",
    "\n",
    "tile_id = 0"
   ]
  },
  {
   "cell_type": "markdown",
   "id": "046d8991",
   "metadata": {},
   "source": [
    "Tiles erzeugen"
   ]
  },
  {
   "cell_type": "code",
   "execution_count": 4,
   "id": "6f4e0e49",
   "metadata": {},
   "outputs": [
    {
     "name": "stdout",
     "output_type": "stream",
     "text": [
      " 4 Tiles gespeichert in: ../data/tiles_2048/Priesig (250314)\n",
      "   Tilegröße: 2048 px, Overlap: 256 px, Rand-Tiles kleiner erlaubt: False\n"
     ]
    }
   ],
   "source": [
    "for y in range(0, H, step):\n",
    "    for x in range(0, W, step):\n",
    "        # rechte/untere Kante bis Bildrand kappen → Rand-Tiles können kleiner sein\n",
    "        x2 = min(x + tile_size, W)\n",
    "        y2 = min(y + tile_size, H)\n",
    "\n",
    "        tile = img.crop((x, y, x2, y2))  # kann kleiner als spezifizierte Größe sein sein\n",
    "\n",
    "        # Dateiname mit Koordinaten & tatsächlicher Größe – praktisch fürs Mapping\n",
    "        fname = f\"Priesig (250314)_tile_{tile_id:04d}_x{x}_y{y}_w{tile.size[0]}_h{tile.size[1]}.jpg\"\n",
    "        tile.save(os.path.join(output_dir, fname), \"png\", quality=95)\n",
    "        tile_id += 1\n",
    "\n",
    "print(f\" {tile_id} Tiles gespeichert in: {output_dir}\")\n",
    "print(f\"   Tilegröße: {tile_size} px, Overlap: {overlap} px, Rand-Tiles kleiner erlaubt: {not pad_edges}\")"
   ]
  },
  {
   "cell_type": "code",
   "execution_count": null,
   "id": "f59d05fc",
   "metadata": {},
   "outputs": [],
   "source": []
  }
 ],
 "metadata": {
  "kernelspec": {
   "display_name": "geo_env",
   "language": "python",
   "name": "python3"
  },
  "language_info": {
   "codemirror_mode": {
    "name": "ipython",
    "version": 3
   },
   "file_extension": ".py",
   "mimetype": "text/x-python",
   "name": "python",
   "nbconvert_exporter": "python",
   "pygments_lexer": "ipython3",
   "version": "3.11.13"
  }
 },
 "nbformat": 4,
 "nbformat_minor": 5
}
