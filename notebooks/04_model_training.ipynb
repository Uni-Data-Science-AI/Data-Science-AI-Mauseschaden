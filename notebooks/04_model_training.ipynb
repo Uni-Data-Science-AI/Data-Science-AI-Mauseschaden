{
 "cells": [
  {
   "cell_type": "markdown",
   "id": "5b7b628a",
   "metadata": {},
   "source": [
    "Informationen aus https://docs.ultralytics.com/de/usage/python/."
   ]
  },
  {
   "cell_type": "code",
   "execution_count": null,
   "id": "e5b0af79",
   "metadata": {},
   "outputs": [],
   "source": [
    "import sys\n",
    "import os\n",
    "sys.path.append(os.path.abspath(os.path.join(os.getcwd(), '..')))"
   ]
  },
  {
   "cell_type": "code",
   "execution_count": null,
   "id": "73eac256",
   "metadata": {},
   "outputs": [],
   "source": [
    "from functions.dataloader import CocoDetDataset, collate_fn"
   ]
  },
  {
   "cell_type": "code",
   "execution_count": null,
   "id": "32d5edb8",
   "metadata": {},
   "outputs": [],
   "source": [
    "ROOT = \"../dataset\"  # passe an: Basisordner, der images/ und annotations/ enthält\n",
    "\n",
    "train_ds = CocoDetDataset(f\"{ROOT}/annotations/instances_train.json\", f\"{ROOT}/images/train\", resize_short=640)\n",
    "val_ds   = CocoDetDataset(f\"{ROOT}/annotations/instances_val.json\",   f\"{ROOT}/images/val\",   resize_short=640)\n",
    "\n",
    "from torch.utils.data import DataLoader\n",
    "train_loader = DataLoader(train_ds, batch_size=4, shuffle=True,  num_workers=4, collate_fn=collate_fn, pin_memory=True)\n",
    "val_loader   = DataLoader(val_ds,   batch_size=4, shuffle=False, num_workers=4, collate_fn=collate_fn, pin_memory=True)\n",
    "\n",
    "num_classes_fg = len(train_ds.cid_to_lbl)  # Anzahl Vordergrundklassen\n"
   ]
  },
  {
   "cell_type": "code",
   "execution_count": null,
   "id": "49d1d6dc",
   "metadata": {},
   "outputs": [],
   "source": [
    "import torch\n",
    "import matplotlib.pyplot as plt\n",
    "from torchvision.models.detection import fasterrcnn_resnet50_fpn_v2\n",
    "from torchvision.models.detection.faster_rcnn import FastRCNNPredictor\n",
    "\n",
    "\n",
    "device = torch.device(\"cuda\" if torch.cuda.is_available() else \"cpu\")\n",
    "model = fasterrcnn_resnet50_fpn_v2(weights=\"DEFAULT\").to(device)\n",
    "\n",
    "in_feats = model.roi_heads.box_predictor.cls_score.in_features\n",
    "model.roi_heads.box_predictor = FastRCNNPredictor(in_feats, num_classes_fg + 1)\n",
    "model = model.to(device)\n"
   ]
  },
  {
   "cell_type": "code",
   "execution_count": null,
   "id": "5defa0c2",
   "metadata": {},
   "outputs": [],
   "source": [
    "import torch, platform\n",
    "print(\"cuda.is_available:\", torch.cuda.is_available())\n",
    "print(\"torch.version.cuda:\", getattr(torch.version, \"cuda\", None))\n",
    "print(\"torch.version:\", torch.__version__)\n",
    "if torch.cuda.is_available():\n",
    "    print(\"device:\", torch.cuda.get_device_name(0))"
   ]
  },
  {
   "cell_type": "code",
   "execution_count": null,
   "id": "2e7b34e9",
   "metadata": {},
   "outputs": [],
   "source": [
    "from torch.optim import AdamW\n",
    "from tqdm.auto import tqdm\n",
    "import time\n",
    "\n",
    "# Adam-Optimierers mit Weight Decay\n",
    "# Fügt einen kleinen Strafterm hinzu, der große Gewichtswerte im Modell bestraft\n",
    "optimizer = AdamW(model.parameters(), lr=1e-4, weight_decay=1e-4)\n",
    "# Mixed Precision Training, normalerweise 32-Bit Fließkommazahlen (float32) verwendet, aber hier teilweise 16-Bit (float16)\n",
    "# Spart Speicher und kann die Geschwindigkeit erhöhen, besonders auf neueren GPUs\n",
    "scaler = torch.cuda.amp.GradScaler(enabled=torch.cuda.is_available())\n",
    "\n",
    "EPOCHS = 40\n",
    "model.train()\n",
    "\n",
    "loss_per_step = []\n",
    "loss_per_epoch = []\n",
    "\n",
    "for epoch in range(EPOCHS):\n",
    "    total = 0.0\n",
    "    n_steps = 0\n",
    "    start = time.time()\n",
    "    # enumerate() liefert Index mit\n",
    "    # tqdm() zeigt Fortschrittsbalken an\n",
    "    for i, (imgs, targets) in enumerate(tqdm(train_loader, desc=f\"Epoch {epoch+1}/{EPOCHS}\")):\n",
    "        # Alle Bilder im Batch auf GPU schieben\n",
    "        imgs = [im.to(device) for im in imgs]\n",
    "        # Alle Targets im Batch auf GPU schieben\n",
    "        targets = [{k: v.to(device) for k,v in t.items()} for t in targets]\n",
    "        # Gradienten aller Modellparameter auf null zurücksetzen\n",
    "        optimizer.zero_grad(set_to_none=True)\n",
    "        # Automatic Mixed Precision (AMP) Modus\n",
    "        # autocast() entscheidet automatisch, welche Operationen in float16 und welche in float32\n",
    "        with torch.cuda.amp.autocast(enabled=torch.cuda.is_available()):\n",
    "            # Vorwärtsdurchlauf: Modell gibt ein Dictionary mit verschiedenen Verlusten zurück\n",
    "            loss_dict = model(imgs, targets)\n",
    "            # Gesamten Verlust berechnen\n",
    "            loss = sum(loss_dict.values())\n",
    "        # Backward-Pass mit skaliertem Verlust\n",
    "        scaler.scale(loss).backward()\n",
    "        # Modellparameter aktualisieren\n",
    "        scaler.step(optimizer)\n",
    "        # Skalierungsfaktor aktualisieren, damit kleine Gradienten nicht zu klein werden\n",
    "        scaler.update()\n",
    "        total += loss.item()\n",
    "        n_steps += 1\n",
    "        loss_per_step.append(loss.item())\n",
    "    \n",
    "    epoch_loss = total / n_steps\n",
    "    loss_per_epoch.append(epoch_loss)\n",
    "    dur = time.time() - start\n",
    "    print(f\"Epoch {epoch+1}/{EPOCHS} - train loss: {epoch_loss:.4f} ({dur:.1f}s)\")\n",
    "\n",
    "    torch.save(model.state_dict(), f\"models/model_epoch_{epoch+1}.pth\")"
   ]
  },
  {
   "cell_type": "markdown",
   "id": "b41cc5a2",
   "metadata": {},
   "source": [
    "Schnelltest"
   ]
  },
  {
   "cell_type": "code",
   "execution_count": null,
   "id": "6cfa91e1",
   "metadata": {},
   "outputs": [],
   "source": [
    "plt.figure()\n",
    "plt.plot(loss_per_step)\n",
    "plt.xlabel(\"Training step\")\n",
    "plt.ylabel(\"Loss\")\n",
    "plt.title(\"Training loss per step\")\n",
    "plt.savefig(\"metrics/loss_per_step.png\")\n",
    "plt.show()\n",
    "\n",
    "plt.figure()\n",
    "plt.plot(loss_per_epoch, marker='o')\n",
    "plt.xlabel(\"Epoch\")\n",
    "plt.ylabel(\"Loss\")\n",
    "plt.title(\"Training loss per epoch\")\n",
    "plt.savefig(\"metrics/loss_per_epoch.png\")\n",
    "plt.show()\n"
   ]
  }
 ],
 "metadata": {
  "kernelspec": {
   "display_name": "torchvision_env",
   "language": "python",
   "name": "python3"
  },
  "language_info": {
   "codemirror_mode": {
    "name": "ipython",
    "version": 3
   },
   "file_extension": ".py",
   "mimetype": "text/x-python",
   "name": "python",
   "nbconvert_exporter": "python",
   "pygments_lexer": "ipython3",
   "version": "3.11.14"
  }
 },
 "nbformat": 4,
 "nbformat_minor": 5
}
