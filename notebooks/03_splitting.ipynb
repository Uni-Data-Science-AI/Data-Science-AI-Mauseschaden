{
 "cells": [
  {
   "cell_type": "code",
   "execution_count": null,
   "id": "817e9eba",
   "metadata": {},
   "outputs": [],
   "source": [
    "SRC_JSON   = \"../dataset/annotations/instances_all.json\"  \n",
    "IMAGES_ALL = \"../dataset/images/all\"                   \n",
    "OUT_ROOT   = \"../dataset\"                              \n",
    "\n",
    "SPLIT = {\"train\": 0.8, \"val\": 0.1, \"test\": 0.1}           # Summe muss 1.0 sein\n",
    "SEED  = 42\n",
    "COPY_FILES = True   # True = kopieren, False = verschieben\n",
    "KEEP_IMAGES_WITHOUT_ANNOT = True  # True: Bilder ohne Annotations bleiben im Split\n"
   ]
  },
  {
   "cell_type": "code",
   "execution_count": 2,
   "id": "5f6e1cbe",
   "metadata": {},
   "outputs": [],
   "source": [
    "import json, os, random, shutil\n",
    "from pathlib import Path\n",
    "from collections import defaultdict"
   ]
  },
  {
   "cell_type": "code",
   "execution_count": 3,
   "id": "e506a3c6",
   "metadata": {},
   "outputs": [],
   "source": [
    "def ensure_sum_one(d):\n",
    "    s = sum(d.values())\n",
    "    if abs(s - 1.0) > 1e-6:\n",
    "        raise ValueError(f\"SPLIT-Summenfehler: {s:.4f} != 1.0\")"
   ]
  },
  {
   "cell_type": "code",
   "execution_count": 4,
   "id": "fdcd5cfc",
   "metadata": {},
   "outputs": [],
   "source": [
    "def load_coco(path):\n",
    "    with open(path, \"r\", encoding=\"utf-8\") as f:\n",
    "        coco = json.load(f)\n",
    "    for k in (\"images\", \"annotations\", \"categories\"):\n",
    "        if k not in coco:\n",
    "            raise KeyError(f\"COCO JSON fehlt Schlüssel: '{k}'\")\n",
    "    return coco"
   ]
  },
  {
   "cell_type": "code",
   "execution_count": 5,
   "id": "d2ad58e8",
   "metadata": {},
   "outputs": [],
   "source": [
    "def filter_existing_images(coco, images_dir, keep_missing=False):\n",
    "    exist, miss = [], []\n",
    "    for im in coco[\"images\"]:\n",
    "        if (Path(images_dir) / im[\"file_name\"]).exists():\n",
    "            exist.append(im)\n",
    "        else:\n",
    "            miss.append(im)\n",
    "    if miss and not keep_missing:\n",
    "        print(f\"[Info] Entferne {len(miss)} referenzierte, aber fehlende Bilder.\")\n",
    "        return {**coco, \"images\": exist}, miss\n",
    "    if miss:\n",
    "        print(f\"[Warn] {len(miss)} Dateien fehlen auf Disk, bleiben aber in JSON (kann später brechen).\")\n",
    "    return coco, miss"
   ]
  },
  {
   "cell_type": "code",
   "execution_count": 6,
   "id": "f58c880c",
   "metadata": {},
   "outputs": [],
   "source": [
    "def index_by_image(annotations):\n",
    "    by_img = defaultdict(list)\n",
    "    for a in annotations:\n",
    "        by_img[a[\"image_id\"]].append(a)\n",
    "    return by_img\n"
   ]
  },
  {
   "cell_type": "code",
   "execution_count": 7,
   "id": "36c57861",
   "metadata": {},
   "outputs": [],
   "source": [
    "def subset_annotations(annotations, image_ids, keep_empty=True):\n",
    "    sub = [a for a in annotations if a.get(\"image_id\") in image_ids]\n",
    "    if keep_empty:\n",
    "        return sub\n",
    "    # Falls Bilder ohne Annotations ausgeschlossen werden sollen, wird hier nichts weiter benötigt,\n",
    "    # das passiert über die Auswahl der Bilder selbst.\n",
    "    return sub"
   ]
  },
  {
   "cell_type": "code",
   "execution_count": 8,
   "id": "8b29bb43",
   "metadata": {},
   "outputs": [],
   "source": [
    "def write_coco(path, images, annotations, categories):\n",
    "    path.parent.mkdir(parents=True, exist_ok=True)\n",
    "    with open(path, \"w\", encoding=\"utf-8\") as f:\n",
    "        json.dump({\"images\": images, \"annotations\": annotations, \"categories\": categories}, f)"
   ]
  },
  {
   "cell_type": "code",
   "execution_count": 9,
   "id": "c21002fc",
   "metadata": {},
   "outputs": [],
   "source": [
    "def transfer_images(imgs, src_root, dst_root, do_copy=True):\n",
    "    dst_root.mkdir(parents=True, exist_ok=True)\n",
    "    n_ok, n_miss = 0, 0\n",
    "    for im in imgs:\n",
    "        src = Path(src_root) / im[\"file_name\"]\n",
    "        dst = Path(dst_root) / im[\"file_name\"]\n",
    "        dst.parent.mkdir(parents=True, exist_ok=True)\n",
    "        if src.exists():\n",
    "            if do_copy:\n",
    "                shutil.copy2(src, dst)\n",
    "            else:\n",
    "                shutil.move(src, dst)\n",
    "            n_ok += 1\n",
    "        else:\n",
    "            n_miss += 1\n",
    "    return n_ok, n_miss"
   ]
  },
  {
   "cell_type": "code",
   "execution_count": 10,
   "id": "18a84982",
   "metadata": {},
   "outputs": [],
   "source": [
    "ensure_sum_one(SPLIT)\n",
    "coco = load_coco(SRC_JSON)\n",
    "coco, missing_on_disk = filter_existing_images(coco, IMAGES_ALL, keep_missing=False)\n",
    "\n",
    "images = coco[\"images\"]\n",
    "anns   = coco[\"annotations\"]\n",
    "cats   = coco[\"categories\"]"
   ]
  },
  {
   "cell_type": "code",
   "execution_count": 11,
   "id": "c627b9b9",
   "metadata": {},
   "outputs": [
    {
     "name": "stdout",
     "output_type": "stream",
     "text": [
      "[Split] total=589  ->  train=471, val=59, test=59\n"
     ]
    }
   ],
   "source": [
    "# deterministisch mischen\n",
    "random.seed(SEED)\n",
    "random.shuffle(images)\n",
    "\n",
    "n = len(images)\n",
    "n_train = int(round(SPLIT[\"train\"] * n))\n",
    "n_val   = int(round(SPLIT[\"val\"]   * n))\n",
    "# Rest zu test\n",
    "if n_train + n_val > n:\n",
    "    n_val = max(0, n - n_train)\n",
    "n_test  = max(0, n - n_train - n_val)\n",
    "\n",
    "splits = {\n",
    "    \"train\": images[:n_train],\n",
    "    \"val\":   images[n_train:n_train+n_val],\n",
    "    \"test\":  images[n_train+n_val:],\n",
    "}\n",
    "\n",
    "print(f\"[Split] total={n}  ->  train={len(splits['train'])}, val={len(splits['val'])}, test={len(splits['test'])}\")\n",
    "if missing_on_disk:\n",
    "    print(f\"[Note] {len(missing_on_disk)} in JSON gelistete Bilder fehl(t)en auf Disk und wurden ausgeschlossen.\")"
   ]
  },
  {
   "cell_type": "code",
   "execution_count": 12,
   "id": "915c1e51",
   "metadata": {},
   "outputs": [
    {
     "name": "stdout",
     "output_type": "stream",
     "text": [
      "[train] kopiert: 471 | fehlend: 0 | json: ../dataset/annotations/instances_train.json\n",
      "[val] kopiert: 59 | fehlend: 0 | json: ../dataset/annotations/instances_val.json\n",
      "[test] kopiert: 59 | fehlend: 0 | json: ../dataset/annotations/instances_test.json\n"
     ]
    }
   ],
   "source": [
    "\n",
    "# JSONs schreiben + Bilder kopieren/verschieben\n",
    "ann_out_dir = Path(OUT_ROOT) / \"annotations\"\n",
    "img_out_root = Path(OUT_ROOT) / \"images\"\n",
    "\n",
    "for split_name, split_imgs in splits.items():\n",
    "    img_ids = {im[\"id\"] for im in split_imgs}\n",
    "    split_anns = subset_annotations(anns, img_ids, keep_empty=True)\n",
    "\n",
    "    out_json = ann_out_dir / f\"instances_{split_name}.json\"\n",
    "    write_coco(out_json, split_imgs, split_anns, cats)\n",
    "\n",
    "    dst_img_dir = img_out_root / split_name\n",
    "    copied, missing = transfer_images(split_imgs, Path(IMAGES_ALL), dst_img_dir, do_copy=COPY_FILES)\n",
    "    action = \"kopiert\" if COPY_FILES else \"verschoben\"\n",
    "    print(f\"[{split_name}] {action}: {copied} | fehlend: {missing} | json: {out_json}\")"
   ]
  }
 ],
 "metadata": {
  "kernelspec": {
   "display_name": "torchvision_env",
   "language": "python",
   "name": "python3"
  },
  "language_info": {
   "codemirror_mode": {
    "name": "ipython",
    "version": 3
   },
   "file_extension": ".py",
   "mimetype": "text/x-python",
   "name": "python",
   "nbconvert_exporter": "python",
   "pygments_lexer": "ipython3",
   "version": "3.11.14"
  }
 },
 "nbformat": 4,
 "nbformat_minor": 5
}
